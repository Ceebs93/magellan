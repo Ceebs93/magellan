{
 "cells": [
  {
   "cell_type": "markdown",
   "metadata": {},
   "source": [
    "# $A \\rightarrow Zh$ measurement"
   ]
  },
  {
   "cell_type": "markdown",
   "metadata": {},
   "source": [
    "This notebook demonstrates the use of the `Measurement` class and how it "
   ]
  },
  {
   "cell_type": "markdown",
   "metadata": {},
   "source": [
    "Initialize the framework"
   ]
  },
  {
   "cell_type": "code",
   "execution_count": 1,
   "metadata": {},
   "outputs": [
    {
     "name": "stdout",
     "output_type": "stream",
     "text": [
      "import ATLAS_EXOT_2016_10.analysis\n"
     ]
    },
    {
     "name": "stderr",
     "output_type": "stream",
     "text": [
      "/home/de3u14/lib/build/miniconda3/lib/python3.7/site-packages/scipy/interpolate/_fitpack_impl.py:976: RuntimeWarning: No more knots can be added because the number of B-spline\n",
      "coefficients already exceeds the number of data points m.\n",
      "Probable causes: either s or m too small. (fp>s)\n",
      "\tkx,ky=1,1 nx,ny=28,14 m=310 fp=0.000002 s=0.000000\n",
      "  warnings.warn(RuntimeWarning(_iermess2[ierm][0] + _mess))\n",
      "/home/de3u14/lib/build/miniconda3/lib/python3.7/site-packages/scipy/interpolate/_fitpack_impl.py:976: RuntimeWarning: No more knots can be added because the number of B-spline\n",
      "coefficients already exceeds the number of data points m.\n",
      "Probable causes: either s or m too small. (fp>s)\n",
      "\tkx,ky=1,1 nx,ny=28,14 m=310 fp=0.000014 s=0.000000\n",
      "  warnings.warn(RuntimeWarning(_iermess2[ierm][0] + _mess))\n"
     ]
    },
    {
     "name": "stdout",
     "output_type": "stream",
     "text": [
      "Setup script loaded.\n",
      "Available commands: \n",
      " - jup.ignore_warnings()\n",
      " - jup.save_to_html()\n"
     ]
    }
   ],
   "source": [
    "from initializer.general.initializer import  *"
   ]
  },
  {
   "cell_type": "markdown",
   "metadata": {},
   "source": [
    "Load in matplotlib cosmetics template"
   ]
  },
  {
   "cell_type": "code",
   "execution_count": 2,
   "metadata": {},
   "outputs": [],
   "source": [
    "mplcosm.load_mpl_style('single_plot.mplstyle')"
   ]
  },
  {
   "cell_type": "markdown",
   "metadata": {},
   "source": [
    "Load in ATLAS-EXOT-2016-10 measurement "
   ]
  },
  {
   "cell_type": "code",
   "execution_count": 3,
   "metadata": {},
   "outputs": [],
   "source": [
    "AZh_m = measurement_database['ATLAS_EXOT_2016_10']"
   ]
  },
  {
   "cell_type": "markdown",
   "metadata": {},
   "source": [
    "The `Measurement` contains some elementary description of the measurement"
   ]
  },
  {
   "cell_type": "markdown",
   "metadata": {},
   "source": [
    "Process"
   ]
  },
  {
   "cell_type": "code",
   "execution_count": 4,
   "metadata": {},
   "outputs": [
    {
     "data": {
      "text/plain": [
       "'$A \\\\rightarrow Zh$'"
      ]
     },
     "execution_count": 4,
     "metadata": {},
     "output_type": "execute_result"
    }
   ],
   "source": [
    "AZh_m.process"
   ]
  },
  {
   "cell_type": "markdown",
   "metadata": {},
   "source": [
    "Luminosity in [fb]"
   ]
  },
  {
   "cell_type": "code",
   "execution_count": null,
   "metadata": {},
   "outputs": [
    {
     "data": {
      "text/plain": [
       "36.0"
      ]
     },
     "execution_count": 5,
     "metadata": {},
     "output_type": "execute_result"
    }
   ],
   "source": [
    "AZh_m.luminosity"
   ]
  },
  {
   "cell_type": "markdown",
   "metadata": {},
   "source": [
    "$\\sqrt{s}$ in [TeV]"
   ]
  },
  {
   "cell_type": "code",
   "execution_count": null,
   "metadata": {},
   "outputs": [
    {
     "data": {
      "text/plain": [
       "13.0"
      ]
     },
     "execution_count": 6,
     "metadata": {},
     "output_type": "execute_result"
    }
   ],
   "source": [
    "AZh_m.sqrt_s"
   ]
  },
  {
   "cell_type": "code",
   "execution_count": null,
   "metadata": {},
   "outputs": [
    {
     "data": {
      "text/plain": [
       "<matplotlib.axes._subplots.AxesSubplot at 0x7faee9782198>"
      ]
     },
     "execution_count": 7,
     "metadata": {},
     "output_type": "execute_result"
    },
    {
     "data": {
      "image/png": "[encoded data removed]",
      "text/plain": [
       "<Figure size 720x504 with 1 Axes>"
      ]
     },
     "metadata": {
      "needs_background": "light"
     },
     "output_type": "display_data"
    }
   ],
   "source": [
    "AZh_m.data['measurement_data'].query('GammaA_div_mA == 0.0').plot('mA', 'limit_exp')"
   ]
  },
  {
   "cell_type": "code",
   "execution_count": null,
   "metadata": {},
   "outputs": [],
   "source": [
    "scan_pts_all =  pd.read_hdf(magconf.paths['default_dataset'])"
   ]
  },
  {
   "cell_type": "code",
   "execution_count": null,
   "metadata": {
    "scrolled": false
   },
   "outputs": [
    {
     "name": "stdout",
     "output_type": "stream",
     "text": [
      "\n",
      "################################\n",
      "### --- Before selection --- ###\n",
      "################################\n",
      "\n",
      "Number of points:  625309\n",
      "Header:\n",
      "        Z7     mH    mHc     mA       cba     tb  sinba     Z4     Z5    m12_2  \\\n",
      "0 -0.6191  729.1  866.2  826.5 -0.001186  6.012   -1.0 -4.716 -2.499  84980.0   \n",
      "1 -0.2011  737.6  822.3  840.7  0.005388  7.007    1.0 -1.677 -2.683  75900.0   \n",
      "\n",
      "   ...  log_xsec_sushi_ggh_A_NNLO  log_xsec_sushi_ggh_H_NNLO  \\\n",
      "0  ...                  -1.795612                  -1.739151   \n",
      "1  ...                  -1.944723                  -1.953263   \n",
      "\n",
      "   log_xsec_sushi_ggh_A_NNLO_x_br_A_tautau  \\\n",
      "0                                -3.234750   \n",
      "1                                -3.258265   \n",
      "\n",
      "   log_xsec_sushi_ggh_A_NNLO_x_br_A_bb  log_xsec_sushi_ggh_A_NNLO_x_br_A_tt  \\\n",
      "0                            -2.396458                            -1.976332   \n",
      "1                            -2.421106                            -2.265931   \n",
      "\n",
      "   log_xsec_sushi_ggh_H_NNLO_x_br_H_ZA  xsec_sushi_ggh_H_NNLO_x_br_H_hh_bbbb  \\\n",
      "0                                 -inf                              0.000003   \n",
      "1                                 -inf                              0.000047   \n",
      "\n",
      "   mA_bin  mH_bin  index  \n",
      "0   825.0   725.0      0  \n",
      "1   825.0   725.0      1  \n",
      "\n",
      "[2 rows x 127 columns]\n",
      "Columns:\n",
      " Index(['Z7', 'mH', 'mHc', 'mA', 'cba', 'tb', 'sinba', 'Z4', 'Z5', 'm12_2',\n",
      "       'l1', 'l2', 'l3', 'l4', 'l5', 'l6', 'l7', 'g_HpHmh', 'Gamma_h',\n",
      "       'Gamma_H', 'Gamma_Hc', 'Gamma_A', 'br_A_tt', 'br_A_bb', 'br_A_gg',\n",
      "       'br_A_mumu', 'br_A_tautau', 'br_A_Zga', 'br_A_Zh', 'br_A_ZH',\n",
      "       'br_A_gaga', 'br_H_tt', 'br_H_bb', 'br_H_gg', 'br_H_mumu',\n",
      "       'br_H_tautau', 'br_H_Zga', 'br_H_Zh', 'br_H_WW', 'br_H_ZZ', 'br_H_ZA',\n",
      "       'br_H_AA', 'br_H_gaga', 'br_Hp_tb', 'br_Hp_taunu', 'br_Hp_Wh',\n",
      "       'br_Hp_WH', 'br_Hp_WA', 'sta', 'uni', 'per_4pi', 'per_8pi', 'S', 'T',\n",
      "       'U', 'V', 'W', 'X', 'delta_rho', 'delta_amu', 'tot_hbobs', 'sens_ch',\n",
      "       'chi2_HS', 'chi2_ST_gfitter', 'chi2_ST_hepfit', 'chi2_Tot_gfitter',\n",
      "       'chi2_Tot_hepfit', 'k_huu', 'k_hdd', 'likelihood', 'stay_count',\n",
      "       'xsec_sushi_ggh_A_NNLO', 'xsec_sushi_ggh_A_NNLO_stat_unc',\n",
      "       'xsec_sushi_ggh_A_NNLO_minus_muR_unc',\n",
      "       'xsec_sushi_ggh_A_NNLO_plus_muR_unc', 'xsec_sushi_bbh_A_NNLO',\n",
      "       'xsec_sushi_bbh_A_NNLO_stat_unc', 'xsec_sushi_ggh_A_NNLO_htop_lim',\n",
      "       'xsec_sushi_ggh_A_NNLO_htop_lim_stat_unc', 'xsec_sushi_ggh_H_NNLO',\n",
      "       'xsec_sushi_ggh_H_NNLO_stat_unc', 'xsec_sushi_ggh_H_NNLO_minus_muR_unc',\n",
      "       'xsec_sushi_ggh_H_NNLO_plus_muR_unc', 'xsec_sushi_bbh_H_NNLO',\n",
      "       'xsec_sushi_bbh_H_NNLO_stat_unc', 'xsec_sushi_ggh_H_NNLO_htop_lim',\n",
      "       'xsec_sushi_ggh_H_NNLO_htop_lim_stat_unc',\n",
      "       'xsec_sushi_ggh_A_NNLO_x_br_A_tt', 'xsec_sushi_ggh_A_NNLO_x_br_A_bb',\n",
      "       'xsec_sushi_ggh_A_NNLO_x_br_A_gg', 'xsec_sushi_ggh_A_NNLO_x_br_A_mumu',\n",
      "       'xsec_sushi_ggh_A_NNLO_x_br_A_tautau',\n",
      "       'xsec_sushi_ggh_A_NNLO_x_br_A_Zga', 'xsec_sushi_ggh_A_NNLO_x_br_A_Zh',\n",
      "       'xsec_sushi_ggh_A_NNLO_x_br_A_ZH', 'xsec_sushi_ggh_A_NNLO_x_br_A_gaga',\n",
      "       'xsec_sushi_ggh_H_NNLO_x_br_H_tt', 'xsec_sushi_ggh_H_NNLO_x_br_H_bb',\n",
      "       'xsec_sushi_ggh_H_NNLO_x_br_H_gg', 'xsec_sushi_ggh_H_NNLO_x_br_H_mumu',\n",
      "       'xsec_sushi_ggh_H_NNLO_x_br_H_tautau',\n",
      "       'xsec_sushi_ggh_H_NNLO_x_br_H_Zga', 'xsec_sushi_ggh_H_NNLO_x_br_H_Zh',\n",
      "       'xsec_sushi_ggh_H_NNLO_x_br_H_WW', 'xsec_sushi_ggh_H_NNLO_x_br_H_ZZ',\n",
      "       'xsec_sushi_ggh_H_NNLO_x_br_H_ZA', 'xsec_sushi_ggh_H_NNLO_x_br_H_AA',\n",
      "       'xsec_sushi_ggh_H_NNLO_x_br_H_hh', 'xsec_sushi_ggh_H_NNLO_x_br_H_gaga',\n",
      "       'mA_minus_mHc', 'mH_minus_mHc', 'GammaA_div_mA', 'GammaH_div_mH',\n",
      "       'k_hdd_type', 'br_H_hh', 'Gamma_div_mass_A', 'Gamma_div_mass_H',\n",
      "       'log_xsec_sushi_ggh_A_NNLO', 'log_xsec_sushi_ggh_H_NNLO',\n",
      "       'log_xsec_sushi_ggh_A_NNLO_x_br_A_tautau',\n",
      "       'log_xsec_sushi_ggh_A_NNLO_x_br_A_bb',\n",
      "       'log_xsec_sushi_ggh_A_NNLO_x_br_A_tt',\n",
      "       'log_xsec_sushi_ggh_H_NNLO_x_br_H_ZA',\n",
      "       'xsec_sushi_ggh_H_NNLO_x_br_H_hh_bbbb', 'mA_bin', 'mH_bin', 'index'],\n",
      "      dtype='object')\n",
      "\n",
      "---------------------------\n",
      "\n",
      "Dataset info\n",
      "\n",
      "chi2_Tot_min:        76.370\n",
      "chi2_Tot_max:        101.400\n",
      "chi2_HS_min:         74.470\n",
      "chi2_HS_max:         99.410\n",
      "chi2_ST_gfitter_min: 0.629\n",
      "chi2_ST_gfitter_max: 20.460\n",
      "m12_2_min:           -61870.000\n",
      "m12_2_max:           476900.000\n",
      "---------------------------\n",
      "\n",
      "Number of points with (sta == 0 | per_4pi == 0 | uni == 0): 0\n",
      "Number of points with (tot_hbobs > 1.0): 10133\n",
      "Total number of points: 625309\n",
      "\n",
      "#########################\n",
      "### --- Selection --- ###\n",
      "#########################\n",
      "Chosen chi2 CL level: 0.9545\n",
      "Chosen chi2 d.o.f: 4\n",
      "Condition:  per_4pi == 1 & mHc > 580.0 & tot_hbobs < 1.0 & chi2_Tot_gfitter < 86.086\n",
      "\n",
      "################################\n",
      "### --- After selection --- ###\n",
      "################################\n",
      "Number of points:  493306\n",
      "Header:\n",
      "        Z7     mH    mHc     mA       cba     tb  sinba     Z4     Z5    m12_2  \\\n",
      "0 -0.6191  729.1  866.2  826.5 -0.001186  6.012   -1.0 -4.716 -2.499  84980.0   \n",
      "1 -0.2011  737.6  822.3  840.7  0.005388  7.007    1.0 -1.677 -2.683  75900.0   \n",
      "\n",
      "   ...  log_xsec_sushi_ggh_A_NNLO  log_xsec_sushi_ggh_H_NNLO  \\\n",
      "0  ...                  -1.795612                  -1.739151   \n",
      "1  ...                  -1.944723                  -1.953263   \n",
      "\n",
      "   log_xsec_sushi_ggh_A_NNLO_x_br_A_tautau  \\\n",
      "0                                -3.234750   \n",
      "1                                -3.258265   \n",
      "\n",
      "   log_xsec_sushi_ggh_A_NNLO_x_br_A_bb  log_xsec_sushi_ggh_A_NNLO_x_br_A_tt  \\\n",
      "0                            -2.396458                            -1.976332   \n",
      "1                            -2.421106                            -2.265931   \n",
      "\n",
      "   log_xsec_sushi_ggh_H_NNLO_x_br_H_ZA  xsec_sushi_ggh_H_NNLO_x_br_H_hh_bbbb  \\\n",
      "0                                 -inf                              0.000003   \n",
      "1                                 -inf                              0.000047   \n",
      "\n",
      "   mA_bin  mH_bin  index  \n",
      "0   825.0   725.0      0  \n",
      "1   825.0   725.0      1  \n",
      "\n",
      "[2 rows x 127 columns]\n",
      "Columns:\n",
      " Index(['Z7', 'mH', 'mHc', 'mA', 'cba', 'tb', 'sinba', 'Z4', 'Z5', 'm12_2',\n",
      "       'l1', 'l2', 'l3', 'l4', 'l5', 'l6', 'l7', 'g_HpHmh', 'Gamma_h',\n",
      "       'Gamma_H', 'Gamma_Hc', 'Gamma_A', 'br_A_tt', 'br_A_bb', 'br_A_gg',\n",
      "       'br_A_mumu', 'br_A_tautau', 'br_A_Zga', 'br_A_Zh', 'br_A_ZH',\n",
      "       'br_A_gaga', 'br_H_tt', 'br_H_bb', 'br_H_gg', 'br_H_mumu',\n",
      "       'br_H_tautau', 'br_H_Zga', 'br_H_Zh', 'br_H_WW', 'br_H_ZZ', 'br_H_ZA',\n",
      "       'br_H_AA', 'br_H_gaga', 'br_Hp_tb', 'br_Hp_taunu', 'br_Hp_Wh',\n",
      "       'br_Hp_WH', 'br_Hp_WA', 'sta', 'uni', 'per_4pi', 'per_8pi', 'S', 'T',\n",
      "       'U', 'V', 'W', 'X', 'delta_rho', 'delta_amu', 'tot_hbobs', 'sens_ch',\n",
      "       'chi2_HS', 'chi2_ST_gfitter', 'chi2_ST_hepfit', 'chi2_Tot_gfitter',\n",
      "       'chi2_Tot_hepfit', 'k_huu', 'k_hdd', 'likelihood', 'stay_count',\n",
      "       'xsec_sushi_ggh_A_NNLO', 'xsec_sushi_ggh_A_NNLO_stat_unc',\n",
      "       'xsec_sushi_ggh_A_NNLO_minus_muR_unc',\n",
      "       'xsec_sushi_ggh_A_NNLO_plus_muR_unc', 'xsec_sushi_bbh_A_NNLO',\n",
      "       'xsec_sushi_bbh_A_NNLO_stat_unc', 'xsec_sushi_ggh_A_NNLO_htop_lim',\n",
      "       'xsec_sushi_ggh_A_NNLO_htop_lim_stat_unc', 'xsec_sushi_ggh_H_NNLO',\n",
      "       'xsec_sushi_ggh_H_NNLO_stat_unc', 'xsec_sushi_ggh_H_NNLO_minus_muR_unc',\n",
      "       'xsec_sushi_ggh_H_NNLO_plus_muR_unc', 'xsec_sushi_bbh_H_NNLO',\n",
      "       'xsec_sushi_bbh_H_NNLO_stat_unc', 'xsec_sushi_ggh_H_NNLO_htop_lim',\n",
      "       'xsec_sushi_ggh_H_NNLO_htop_lim_stat_unc',\n",
      "       'xsec_sushi_ggh_A_NNLO_x_br_A_tt', 'xsec_sushi_ggh_A_NNLO_x_br_A_bb',\n",
      "       'xsec_sushi_ggh_A_NNLO_x_br_A_gg', 'xsec_sushi_ggh_A_NNLO_x_br_A_mumu',\n",
      "       'xsec_sushi_ggh_A_NNLO_x_br_A_tautau',\n",
      "       'xsec_sushi_ggh_A_NNLO_x_br_A_Zga', 'xsec_sushi_ggh_A_NNLO_x_br_A_Zh',\n",
      "       'xsec_sushi_ggh_A_NNLO_x_br_A_ZH', 'xsec_sushi_ggh_A_NNLO_x_br_A_gaga',\n",
      "       'xsec_sushi_ggh_H_NNLO_x_br_H_tt', 'xsec_sushi_ggh_H_NNLO_x_br_H_bb',\n",
      "       'xsec_sushi_ggh_H_NNLO_x_br_H_gg', 'xsec_sushi_ggh_H_NNLO_x_br_H_mumu',\n",
      "       'xsec_sushi_ggh_H_NNLO_x_br_H_tautau',\n",
      "       'xsec_sushi_ggh_H_NNLO_x_br_H_Zga', 'xsec_sushi_ggh_H_NNLO_x_br_H_Zh',\n",
      "       'xsec_sushi_ggh_H_NNLO_x_br_H_WW', 'xsec_sushi_ggh_H_NNLO_x_br_H_ZZ',\n",
      "       'xsec_sushi_ggh_H_NNLO_x_br_H_ZA', 'xsec_sushi_ggh_H_NNLO_x_br_H_AA',\n",
      "       'xsec_sushi_ggh_H_NNLO_x_br_H_hh', 'xsec_sushi_ggh_H_NNLO_x_br_H_gaga',\n",
      "       'mA_minus_mHc', 'mH_minus_mHc', 'GammaA_div_mA', 'GammaH_div_mH',\n",
      "       'k_hdd_type', 'br_H_hh', 'Gamma_div_mass_A', 'Gamma_div_mass_H',\n",
      "       'log_xsec_sushi_ggh_A_NNLO', 'log_xsec_sushi_ggh_H_NNLO',\n",
      "       'log_xsec_sushi_ggh_A_NNLO_x_br_A_tautau',\n",
      "       'log_xsec_sushi_ggh_A_NNLO_x_br_A_bb',\n",
      "       'log_xsec_sushi_ggh_A_NNLO_x_br_A_tt',\n",
      "       'log_xsec_sushi_ggh_H_NNLO_x_br_H_ZA',\n",
      "       'xsec_sushi_ggh_H_NNLO_x_br_H_hh_bbbb', 'mA_bin', 'mH_bin', 'index'],\n",
      "      dtype='object')\n",
      "\n",
      "---------------------------\n",
      "\n",
      "Dataset info\n",
      "\n",
      "chi2_Tot_min:        76.460\n",
      "chi2_Tot_max:        86.080\n",
      "chi2_HS_min:         75.130\n",
      "chi2_HS_max:         84.700\n",
      "chi2_ST_gfitter_min: 0.906\n",
      "chi2_ST_gfitter_max: 10.750\n",
      "m12_2_min:           -18380.000\n",
      "m12_2_max:           476900.000\n",
      "---------------------------\n",
      "\n",
      "Number of points with (sta == 0 | per_4pi == 0 | uni == 0): 0\n",
      "Number of points with (tot_hbobs > 1.0): 0\n",
      "Total number of points: 493306\n"
     ]
    }
   ],
   "source": [
    "pts = analysis.filter_dataset(scan_pts_all, show_diagnostics=False)"
   ]
  },
  {
   "cell_type": "code",
   "execution_count": null,
   "metadata": {},
   "outputs": [],
   "source": [
    "fig, ax = AZh_m.plot_excluded_pts(pts, observable='xsec_sushi_ggh_A_NNLO_x_br_A_Zh', scale=1.0)\n",
    "ax.set_yscale('log')\n",
    "ax.set_ylim(1e-5,10)"
   ]
  }
 ],
 "metadata": {
  "kernelspec": {
   "display_name": "Python 3",
   "language": "python",
   "name": "python3"
  },
  "language_info": {
   "codemirror_mode": {
    "name": "ipython",
    "version": 3
   },
   "file_extension": ".py",
   "mimetype": "text/x-python",
   "name": "python",
   "nbconvert_exporter": "python",
   "pygments_lexer": "ipython3",
   "version": "3.7.1"
  }
 },
 "nbformat": 4,
 "nbformat_minor": 2
}
